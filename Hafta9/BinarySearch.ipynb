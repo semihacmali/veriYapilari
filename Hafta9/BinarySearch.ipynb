{
 "cells": [
  {
   "cell_type": "code",
   "execution_count": 22,
   "id": "40af069b",
   "metadata": {},
   "outputs": [],
   "source": [
    "import random"
   ]
  },
  {
   "cell_type": "code",
   "execution_count": 35,
   "id": "f6a6772e",
   "metadata": {},
   "outputs": [],
   "source": [
    "arr1 = random.sample(range(0,500000), 100000)\n",
    "arr1.sort()"
   ]
  },
  {
   "cell_type": "code",
   "execution_count": 36,
   "id": "986025c0",
   "metadata": {},
   "outputs": [],
   "source": [
    "import time"
   ]
  },
  {
   "cell_type": "code",
   "execution_count": 37,
   "id": "a00326ca",
   "metadata": {},
   "outputs": [],
   "source": [
    "arananDeger = max(arr1)"
   ]
  },
  {
   "cell_type": "code",
   "execution_count": 38,
   "id": "0f9fade7",
   "metadata": {},
   "outputs": [
    {
     "name": "stdout",
     "output_type": "stream",
     "text": [
      "Aradiginiz sayi dizide 499999 elemandir\n",
      "0.006984233856201172\n"
     ]
    }
   ],
   "source": [
    "basla = time.time()\n",
    "eslesme = False\n",
    "for diziElemani in arr1:\n",
    "    if diziElemani == arananDeger:\n",
    "        print(\"Aradiginiz sayi dizide {} elemandir\".format(diziElemani))\n",
    "        eslesme = True\n",
    "        break #for, while gibi dongulerin disina çikartmaya yarar\n",
    "if not eslesme:\n",
    "    print(\"Eslesme Bulunamadi\")\n",
    "bitir = time.time()\n",
    "print(bitir- basla)"
   ]
  },
  {
   "cell_type": "code",
   "execution_count": 33,
   "id": "4e61f8cc",
   "metadata": {},
   "outputs": [],
   "source": [
    "def recursiveBinarySearch(arr1, arananDeger):\n",
    "    ortanca = (int)(len(arr1)/2) #ortadaki indexi buldum\n",
    "    baslangic = 0\n",
    "    bitis = len(arr1)\n",
    "    if len(arr1) < 1:\n",
    "        return \"Dizinin İcerisinde {} yoktur.\".format(arananDeger)\n",
    "    if arr1[ortanca] == arananDeger:\n",
    "        return arananDeger\n",
    "    elif arr1[ortanca] > arananDeger:\n",
    "        print(\"Yeni baslangic {} Yeni Bitis {}\".format(baslangic, ortanca -1))\n",
    "        return recursiveBinarySearch(arr1[baslangic:ortanca -1], arananDeger)\n",
    "    elif arr1[ortanca] < arananDeger:\n",
    "        print(\"Yeni baslangic {} Yeni Bitis {}\".format(ortanca + 1, bitis))\n",
    "        return recursiveBinarySearch(arr1[ortanca + 1:bitis], arananDeger)"
   ]
  },
  {
   "cell_type": "code",
   "execution_count": 39,
   "id": "8b29272e",
   "metadata": {},
   "outputs": [
    {
     "name": "stdout",
     "output_type": "stream",
     "text": [
      "Yeni baslangic 50001 Yeni Bitis 100000\n",
      "Yeni baslangic 25000 Yeni Bitis 49999\n",
      "Yeni baslangic 12500 Yeni Bitis 24999\n",
      "Yeni baslangic 6250 Yeni Bitis 12499\n",
      "Yeni baslangic 3125 Yeni Bitis 6249\n",
      "Yeni baslangic 1563 Yeni Bitis 3124\n",
      "Yeni baslangic 781 Yeni Bitis 1561\n",
      "Yeni baslangic 391 Yeni Bitis 780\n",
      "Yeni baslangic 195 Yeni Bitis 389\n",
      "Yeni baslangic 98 Yeni Bitis 194\n",
      "Yeni baslangic 49 Yeni Bitis 96\n",
      "Yeni baslangic 24 Yeni Bitis 47\n",
      "Yeni baslangic 12 Yeni Bitis 23\n",
      "Yeni baslangic 6 Yeni Bitis 11\n",
      "Yeni baslangic 3 Yeni Bitis 5\n",
      "0.0040130615234375\n"
     ]
    }
   ],
   "source": [
    "basla = time.time()\n",
    "recursiveBinarySearch(arr1,arananDeger)\n",
    "bitir = time.time()\n",
    "print(bitir- basla)"
   ]
  }
 ],
 "metadata": {
  "kernelspec": {
   "display_name": "Python 3 (ipykernel)",
   "language": "python",
   "name": "python3"
  },
  "language_info": {
   "codemirror_mode": {
    "name": "ipython",
    "version": 3
   },
   "file_extension": ".py",
   "mimetype": "text/x-python",
   "name": "python",
   "nbconvert_exporter": "python",
   "pygments_lexer": "ipython3",
   "version": "3.9.7"
  }
 },
 "nbformat": 4,
 "nbformat_minor": 5
}
