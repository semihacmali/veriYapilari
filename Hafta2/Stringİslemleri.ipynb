{
 "cells": [
  {
   "cell_type": "code",
   "execution_count": 1,
   "id": "08e2334c",
   "metadata": {},
   "outputs": [],
   "source": [
    "ilkString = \"Bilgisayar Programciligi\""
   ]
  },
  {
   "cell_type": "code",
   "execution_count": 2,
   "id": "89d08ec3",
   "metadata": {},
   "outputs": [
    {
     "data": {
      "text/plain": [
       "str"
      ]
     },
     "execution_count": 2,
     "metadata": {},
     "output_type": "execute_result"
    }
   ],
   "source": [
    "type(ilkString)"
   ]
  },
  {
   "cell_type": "code",
   "execution_count": 3,
   "id": "30312994",
   "metadata": {},
   "outputs": [
    {
     "data": {
      "text/plain": [
       "'i'"
      ]
     },
     "execution_count": 3,
     "metadata": {},
     "output_type": "execute_result"
    }
   ],
   "source": [
    "ilkString[1]"
   ]
  },
  {
   "cell_type": "code",
   "execution_count": 5,
   "id": "412e07bc",
   "metadata": {},
   "outputs": [
    {
     "data": {
      "text/plain": [
       "'ilgis'"
      ]
     },
     "execution_count": 5,
     "metadata": {},
     "output_type": "execute_result"
    }
   ],
   "source": [
    "#SubString baslangicindex:(sonindex+1)\n",
    "ilkString[1:6]"
   ]
  },
  {
   "cell_type": "code",
   "execution_count": 6,
   "id": "f5d4ccae",
   "metadata": {},
   "outputs": [
    {
     "data": {
      "text/plain": [
       "'r Programciligi'"
      ]
     },
     "execution_count": 6,
     "metadata": {},
     "output_type": "execute_result"
    }
   ],
   "source": [
    "ilkString[9:] #baslangicindex:"
   ]
  },
  {
   "cell_type": "code",
   "execution_count": 8,
   "id": "71d2ca5a",
   "metadata": {},
   "outputs": [
    {
     "data": {
      "text/plain": [
       "'Bilgisay'"
      ]
     },
     "execution_count": 8,
     "metadata": {},
     "output_type": "execute_result"
    }
   ],
   "source": [
    "ilkString[:8] #:sonindex"
   ]
  },
  {
   "cell_type": "code",
   "execution_count": 9,
   "id": "8b10ed83",
   "metadata": {},
   "outputs": [
    {
     "data": {
      "text/plain": [
       "24"
      ]
     },
     "execution_count": 9,
     "metadata": {},
     "output_type": "execute_result"
    }
   ],
   "source": [
    "#uzunluk bulma\n",
    "len(ilkString)"
   ]
  },
  {
   "cell_type": "code",
   "execution_count": 10,
   "id": "c1ed9b60",
   "metadata": {},
   "outputs": [
    {
     "data": {
      "text/plain": [
       "11"
      ]
     },
     "execution_count": 10,
     "metadata": {},
     "output_type": "execute_result"
    }
   ],
   "source": [
    "ilkString.find(\"Pro\") #Girilen ifadenin bulundugu index i dondurur"
   ]
  },
  {
   "cell_type": "code",
   "execution_count": 11,
   "id": "de7c50f0",
   "metadata": {},
   "outputs": [
    {
     "data": {
      "text/plain": [
       "'Pro'"
      ]
     },
     "execution_count": 11,
     "metadata": {},
     "output_type": "execute_result"
    }
   ],
   "source": [
    "bulunacakKelime = \"Pro\"\n",
    "ilkString[ilkString.find(bulunacakKelime):(ilkString.find(bulunacakKelime) + len(bulunacakKelime))]"
   ]
  },
  {
   "cell_type": "code",
   "execution_count": 12,
   "id": "14a5fa2c",
   "metadata": {},
   "outputs": [
    {
     "data": {
      "text/plain": [
       "True"
      ]
     },
     "execution_count": 12,
     "metadata": {},
     "output_type": "execute_result"
    }
   ],
   "source": [
    "#String den integer a cevirebiliyoruz\n",
    "sayi = \"5683\"\n",
    "sayi.isnumeric() # verilen String in sayisal olup olmadigini buluyor"
   ]
  },
  {
   "cell_type": "code",
   "execution_count": 13,
   "id": "63fbdf61",
   "metadata": {},
   "outputs": [
    {
     "data": {
      "text/plain": [
       "False"
      ]
     },
     "execution_count": 13,
     "metadata": {},
     "output_type": "execute_result"
    }
   ],
   "source": [
    "bulunacakKelime.isnumeric()"
   ]
  },
  {
   "cell_type": "code",
   "execution_count": 14,
   "id": "d3888a53",
   "metadata": {},
   "outputs": [
    {
     "data": {
      "text/plain": [
       "'pro'"
      ]
     },
     "execution_count": 14,
     "metadata": {},
     "output_type": "execute_result"
    }
   ],
   "source": [
    "bulunacakKelime.lower() #küçük harfe cevirir"
   ]
  },
  {
   "cell_type": "code",
   "execution_count": 15,
   "id": "e23c91f2",
   "metadata": {},
   "outputs": [
    {
     "data": {
      "text/plain": [
       "'PRO'"
      ]
     },
     "execution_count": 15,
     "metadata": {},
     "output_type": "execute_result"
    }
   ],
   "source": [
    "bulunacakKelime.upper() # büyük harfe cevirir"
   ]
  },
  {
   "cell_type": "code",
   "execution_count": 61,
   "id": "c5a7de32",
   "metadata": {},
   "outputs": [],
   "source": [
    "ad = \"semih acmali\""
   ]
  },
  {
   "cell_type": "code",
   "execution_count": 62,
   "id": "ecea4b03",
   "metadata": {},
   "outputs": [
    {
     "data": {
      "text/plain": [
       "'Semih acmali'"
      ]
     },
     "execution_count": 62,
     "metadata": {},
     "output_type": "execute_result"
    }
   ],
   "source": [
    "ad.capitalize() # cümle gibi yazdirir Stringin ilk harf buyuk gerisi kucuk"
   ]
  },
  {
   "cell_type": "code",
   "execution_count": 63,
   "id": "ac6f6fa0",
   "metadata": {},
   "outputs": [
    {
     "data": {
      "text/plain": [
       "'Semih Acmali'"
      ]
     },
     "execution_count": 63,
     "metadata": {},
     "output_type": "execute_result"
    }
   ],
   "source": [
    "ad.title() #baslik gibi yazdirir her kelime ilk harfi buyuk olur"
   ]
  },
  {
   "cell_type": "code",
   "execution_count": 16,
   "id": "f98a54a0",
   "metadata": {},
   "outputs": [
    {
     "data": {
      "text/plain": [
       "'Yazilim Programciligi'"
      ]
     },
     "execution_count": 16,
     "metadata": {},
     "output_type": "execute_result"
    }
   ],
   "source": [
    "#Replace(Yeniden yazma)\n",
    "ilkString.replace(\"Bilgisayar\", \"Yazilim\")"
   ]
  },
  {
   "cell_type": "code",
   "execution_count": 20,
   "id": "0af9fa3b",
   "metadata": {},
   "outputs": [],
   "source": [
    "uzunMetin = \"Yüksek İhtisas Üniversitesi Meslek Yuksekokulu Bilgisayar Programciligi Programi\"\n",
    "bolunmus = uzunMetin.split() #defualt degeri \" \""
   ]
  },
  {
   "cell_type": "code",
   "execution_count": 21,
   "id": "5a46f61b",
   "metadata": {},
   "outputs": [
    {
     "data": {
      "text/plain": [
       "['Yüksek',\n",
       " 'İhtisas',\n",
       " 'Üniversitesi',\n",
       " 'Meslek',\n",
       " 'Yuksekokulu',\n",
       " 'Bilgisayar',\n",
       " 'Programciligi',\n",
       " 'Programi']"
      ]
     },
     "execution_count": 21,
     "metadata": {},
     "output_type": "execute_result"
    }
   ],
   "source": [
    "bolunmus"
   ]
  },
  {
   "cell_type": "code",
   "execution_count": 22,
   "id": "4664935d",
   "metadata": {},
   "outputs": [
    {
     "data": {
      "text/plain": [
       "8"
      ]
     },
     "execution_count": 22,
     "metadata": {},
     "output_type": "execute_result"
    }
   ],
   "source": [
    "len(bolunmus)"
   ]
  },
  {
   "cell_type": "code",
   "execution_count": 23,
   "id": "42cf8ebb",
   "metadata": {},
   "outputs": [
    {
     "data": {
      "text/plain": [
       "list"
      ]
     },
     "execution_count": 23,
     "metadata": {},
     "output_type": "execute_result"
    }
   ],
   "source": [
    "type(bolunmus)"
   ]
  },
  {
   "cell_type": "code",
   "execution_count": 24,
   "id": "93762785",
   "metadata": {},
   "outputs": [
    {
     "data": {
      "text/plain": [
       "str"
      ]
     },
     "execution_count": 24,
     "metadata": {},
     "output_type": "execute_result"
    }
   ],
   "source": [
    "type(bolunmus[3])"
   ]
  },
  {
   "cell_type": "code",
   "execution_count": 29,
   "id": "43a26a8d",
   "metadata": {},
   "outputs": [
    {
     "data": {
      "text/plain": [
       "['Sude', 'Yiğit', 'Tuna', 'Sueda', 'Sema', 'Ömer']"
      ]
     },
     "execution_count": 29,
     "metadata": {},
     "output_type": "execute_result"
    }
   ],
   "source": [
    "uzunMetin2 = \"Sude,Yiğit,Tuna,Sueda,Sema,Ömer\"\n",
    "bolum = uzunMetin2.split(\",\")\n",
    "bolum"
   ]
  },
  {
   "cell_type": "code",
   "execution_count": 30,
   "id": "88567d41",
   "metadata": {},
   "outputs": [
    {
     "data": {
      "text/plain": [
       "list"
      ]
     },
     "execution_count": 30,
     "metadata": {},
     "output_type": "execute_result"
    }
   ],
   "source": [
    "type(bolum)"
   ]
  },
  {
   "cell_type": "code",
   "execution_count": 31,
   "id": "b3c93e4a",
   "metadata": {},
   "outputs": [
    {
     "data": {
      "text/plain": [
       "6"
      ]
     },
     "execution_count": 31,
     "metadata": {},
     "output_type": "execute_result"
    }
   ],
   "source": [
    "len(bolum)"
   ]
  },
  {
   "cell_type": "code",
   "execution_count": 32,
   "id": "c5692c97",
   "metadata": {},
   "outputs": [
    {
     "data": {
      "text/plain": [
       "'remÖ,ameS,adeuS,anuT,tiğiY,eduS'"
      ]
     },
     "execution_count": 32,
     "metadata": {},
     "output_type": "execute_result"
    }
   ],
   "source": [
    "uzunMetin2[::-1] # String i ters cevirir"
   ]
  },
  {
   "cell_type": "code",
   "execution_count": 34,
   "id": "725f44e3",
   "metadata": {},
   "outputs": [
    {
     "data": {
      "text/plain": [
       "'r'"
      ]
     },
     "execution_count": 34,
     "metadata": {},
     "output_type": "execute_result"
    }
   ],
   "source": [
    "uzunMetin2[-1] #son elemani secer"
   ]
  },
  {
   "cell_type": "code",
   "execution_count": 35,
   "id": "34917f10",
   "metadata": {},
   "outputs": [
    {
     "data": {
      "text/plain": [
       "['Sude', 'Yiğit', 'Tuna', 'Sueda', 'Sema', 'Ömer']"
      ]
     },
     "execution_count": 35,
     "metadata": {},
     "output_type": "execute_result"
    }
   ],
   "source": [
    "bolum"
   ]
  },
  {
   "cell_type": "code",
   "execution_count": 42,
   "id": "4d8c2840",
   "metadata": {},
   "outputs": [],
   "source": [
    "birles = \"\".join(bolum[1:3]) #bu sekilde tanimlanmali\n",
    "birles"
   ]
  },
  {
   "cell_type": "code",
   "execution_count": 47,
   "id": "59dc6617",
   "metadata": {},
   "outputs": [
    {
     "data": {
      "text/plain": [
       "'Sude Yiğit Tuna Sueda Sema Ömer'"
      ]
     },
     "execution_count": 47,
     "metadata": {},
     "output_type": "execute_result"
    }
   ],
   "source": [
    "' '.join(bolum)"
   ]
  },
  {
   "cell_type": "code",
   "execution_count": 48,
   "id": "a6735f29",
   "metadata": {},
   "outputs": [
    {
     "data": {
      "text/plain": [
       "'sİsÜet lYeuBiaral gi'"
      ]
     },
     "execution_count": 48,
     "metadata": {},
     "output_type": "execute_result"
    }
   ],
   "source": [
    "#String[baslangic: bitis: adim]\n",
    "uzunMetin[3:len(uzunMetin):4]"
   ]
  },
  {
   "cell_type": "code",
   "execution_count": 49,
   "id": "eaa138d3",
   "metadata": {},
   "outputs": [
    {
     "data": {
      "text/plain": [
       "'Yüksek İhtisas Üniversitesi Meslek Yuksekokulu Bilgisayar Programciligi Programi'"
      ]
     },
     "execution_count": 49,
     "metadata": {},
     "output_type": "execute_result"
    }
   ],
   "source": [
    "uzunMetin"
   ]
  },
  {
   "cell_type": "code",
   "execution_count": 54,
   "id": "971f79f2",
   "metadata": {},
   "outputs": [
    {
     "data": {
      "text/plain": [
       "[1,\n",
       " 3,\n",
       " 5,\n",
       " 7,\n",
       " 9,\n",
       " 11,\n",
       " 13,\n",
       " 15,\n",
       " 17,\n",
       " 19,\n",
       " 21,\n",
       " 23,\n",
       " 25,\n",
       " 27,\n",
       " 29,\n",
       " 31,\n",
       " 33,\n",
       " 35,\n",
       " 37,\n",
       " 39,\n",
       " 41,\n",
       " 43,\n",
       " 45,\n",
       " 47,\n",
       " 49,\n",
       " 51,\n",
       " 53,\n",
       " 55,\n",
       " 57,\n",
       " 59,\n",
       " 61,\n",
       " 63,\n",
       " 65,\n",
       " 67,\n",
       " 69,\n",
       " 71,\n",
       " 73,\n",
       " 75,\n",
       " 77,\n",
       " 79,\n",
       " 81,\n",
       " 83,\n",
       " 85,\n",
       " 87,\n",
       " 89,\n",
       " 91,\n",
       " 93,\n",
       " 95,\n",
       " 97,\n",
       " 99]"
      ]
     },
     "execution_count": 54,
     "metadata": {},
     "output_type": "execute_result"
    }
   ],
   "source": [
    "sayi_listesi = list(range(1,100))\n",
    "sayi_listesi[::2]"
   ]
  }
 ],
 "metadata": {
  "kernelspec": {
   "display_name": "Python 3 (ipykernel)",
   "language": "python",
   "name": "python3"
  },
  "language_info": {
   "codemirror_mode": {
    "name": "ipython",
    "version": 3
   },
   "file_extension": ".py",
   "mimetype": "text/x-python",
   "name": "python",
   "nbconvert_exporter": "python",
   "pygments_lexer": "ipython3",
   "version": "3.9.7"
  }
 },
 "nbformat": 4,
 "nbformat_minor": 5
}
