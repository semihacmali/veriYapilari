{
 "cells": [
  {
   "cell_type": "code",
   "execution_count": 15,
   "id": "d5217339",
   "metadata": {},
   "outputs": [
    {
     "name": "stdout",
     "output_type": "stream",
     "text": [
      "[11, 8, 12, 'i', 65]\n"
     ]
    }
   ],
   "source": [
    "#array tanimlama\n",
    "ilkArray = [11,8,12,'i',65] #butun elemanlar ayni turden olmak zorunda degil\n",
    "print(ilkArray)"
   ]
  },
  {
   "cell_type": "code",
   "execution_count": 13,
   "id": "0b020a5c",
   "metadata": {},
   "outputs": [
    {
     "data": {
      "text/plain": [
       "[11, 8, 12, 'i', 'Yiu', 65]"
      ]
     },
     "execution_count": 13,
     "metadata": {},
     "output_type": "execute_result"
    }
   ],
   "source": [
    "ilkArray.insert(4, 'Yiu') # .insert(index, deger)\n",
    "ilkArray"
   ]
  },
  {
   "cell_type": "code",
   "execution_count": 16,
   "id": "f7be6032",
   "metadata": {},
   "outputs": [
    {
     "data": {
      "text/plain": [
       "[11, 8, 'Omer', 12, 'i', 65]"
      ]
     },
     "execution_count": 16,
     "metadata": {},
     "output_type": "execute_result"
    }
   ],
   "source": [
    "ilkArray.insert(2, 'Omer')\n",
    "ilkArray"
   ]
  },
  {
   "cell_type": "code",
   "execution_count": 17,
   "id": "8a77e3f9",
   "metadata": {},
   "outputs": [
    {
     "data": {
      "text/plain": [
       "[11, 8, 'Omer', 12, 'i', 65, 'BilProg']"
      ]
     },
     "execution_count": 17,
     "metadata": {},
     "output_type": "execute_result"
    }
   ],
   "source": [
    "ilkArray.append(\"BilProg\") #sonuna ekleme yapar\n",
    "ilkArray"
   ]
  },
  {
   "cell_type": "code",
   "execution_count": 18,
   "id": "4da6b1c2",
   "metadata": {},
   "outputs": [
    {
     "ename": "ValueError",
     "evalue": "list.remove(x): x not in list",
     "output_type": "error",
     "traceback": [
      "\u001b[1;31m---------------------------------------------------------------------------\u001b[0m",
      "\u001b[1;31mValueError\u001b[0m                                Traceback (most recent call last)",
      "\u001b[1;32m~\\AppData\\Local\\Temp/ipykernel_10636/988733371.py\u001b[0m in \u001b[0;36m<module>\u001b[1;34m\u001b[0m\n\u001b[1;32m----> 1\u001b[1;33m \u001b[0milkArray\u001b[0m\u001b[1;33m.\u001b[0m\u001b[0mremove\u001b[0m\u001b[1;33m(\u001b[0m\u001b[1;36m13\u001b[0m\u001b[1;33m)\u001b[0m\u001b[1;33m\u001b[0m\u001b[1;33m\u001b[0m\u001b[0m\n\u001b[0m",
      "\u001b[1;31mValueError\u001b[0m: list.remove(x): x not in list"
     ]
    }
   ],
   "source": [
    "ilkArray.remove(13) # listenin icerisindeki bir degeri siler"
   ]
  },
  {
   "cell_type": "code",
   "execution_count": 19,
   "id": "b34431d7",
   "metadata": {},
   "outputs": [
    {
     "data": {
      "text/plain": [
       "[11, 8, 'Omer', 12, 'i', 'BilProg']"
      ]
     },
     "execution_count": 19,
     "metadata": {},
     "output_type": "execute_result"
    }
   ],
   "source": [
    "ilkArray.remove(65)\n",
    "ilkArray"
   ]
  },
  {
   "cell_type": "code",
   "execution_count": 20,
   "id": "30c2ae71",
   "metadata": {},
   "outputs": [
    {
     "data": {
      "text/plain": [
       "[11, 8, 'Omer', 12, 'i']"
      ]
     },
     "execution_count": 20,
     "metadata": {},
     "output_type": "execute_result"
    }
   ],
   "source": [
    "ilkArray.pop() # dizinin sonundaki elemani siler\n",
    "ilkArray"
   ]
  },
  {
   "cell_type": "code",
   "execution_count": 21,
   "id": "d58d10fe",
   "metadata": {},
   "outputs": [
    {
     "ename": "ValueError",
     "evalue": "13 is not in list",
     "output_type": "error",
     "traceback": [
      "\u001b[1;31m---------------------------------------------------------------------------\u001b[0m",
      "\u001b[1;31mValueError\u001b[0m                                Traceback (most recent call last)",
      "\u001b[1;32m~\\AppData\\Local\\Temp/ipykernel_10636/56695569.py\u001b[0m in \u001b[0;36m<module>\u001b[1;34m\u001b[0m\n\u001b[1;32m----> 1\u001b[1;33m \u001b[0milkArray\u001b[0m\u001b[1;33m.\u001b[0m\u001b[0mindex\u001b[0m\u001b[1;33m(\u001b[0m\u001b[1;36m13\u001b[0m\u001b[1;33m)\u001b[0m\u001b[1;33m\u001b[0m\u001b[1;33m\u001b[0m\u001b[0m\n\u001b[0m",
      "\u001b[1;31mValueError\u001b[0m: 13 is not in list"
     ]
    }
   ],
   "source": [
    "ilkArray.index(13) #dizinin icerisinden eleman olmali"
   ]
  },
  {
   "cell_type": "code",
   "execution_count": 22,
   "id": "f6e2e57a",
   "metadata": {},
   "outputs": [
    {
     "data": {
      "text/plain": [
       "2"
      ]
     },
     "execution_count": 22,
     "metadata": {},
     "output_type": "execute_result"
    }
   ],
   "source": [
    "ilkArray.index('Omer') # verilen degerin index ini dondurur"
   ]
  },
  {
   "cell_type": "code",
   "execution_count": 24,
   "id": "ab3ed59c",
   "metadata": {},
   "outputs": [
    {
     "data": {
      "text/plain": [
       "8"
      ]
     },
     "execution_count": 24,
     "metadata": {},
     "output_type": "execute_result"
    }
   ],
   "source": [
    "ikinciArray = [51,95,8,7,65,4,583,78]\n",
    "ikinciArray[2]"
   ]
  },
  {
   "cell_type": "code",
   "execution_count": 37,
   "id": "6b6cf4da",
   "metadata": {
    "scrolled": true
   },
   "outputs": [
    {
     "name": "stdout",
     "output_type": "stream",
     "text": [
      "51\n",
      "95\n",
      "8\n",
      "7\n",
      "65\n",
      "4\n",
      "583\n",
      "78\n"
     ]
    }
   ],
   "source": [
    "for eleman in ikinciArray:\n",
    "    print(eleman)"
   ]
  },
  {
   "cell_type": "code",
   "execution_count": 42,
   "id": "9c4853d4",
   "metadata": {},
   "outputs": [],
   "source": [
    "a1 = 9\n",
    "a2 = 9"
   ]
  },
  {
   "cell_type": "code",
   "execution_count": 43,
   "id": "1217ce8f",
   "metadata": {},
   "outputs": [
    {
     "data": {
      "text/plain": [
       "True"
      ]
     },
     "execution_count": 43,
     "metadata": {},
     "output_type": "execute_result"
    }
   ],
   "source": [
    "a1 == a2 #esit mi"
   ]
  },
  {
   "cell_type": "code",
   "execution_count": 44,
   "id": "adb36921",
   "metadata": {},
   "outputs": [
    {
     "data": {
      "text/plain": [
       "False"
      ]
     },
     "execution_count": 44,
     "metadata": {},
     "output_type": "execute_result"
    }
   ],
   "source": [
    "a1 == 8 #esit mi"
   ]
  },
  {
   "cell_type": "code",
   "execution_count": 45,
   "id": "51abf762",
   "metadata": {},
   "outputs": [
    {
     "data": {
      "text/plain": [
       "False"
      ]
     },
     "execution_count": 45,
     "metadata": {},
     "output_type": "execute_result"
    }
   ],
   "source": [
    "8 < 6 #kucuk mu"
   ]
  },
  {
   "cell_type": "code",
   "execution_count": 46,
   "id": "f31e5a57",
   "metadata": {},
   "outputs": [
    {
     "data": {
      "text/plain": [
       "True"
      ]
     },
     "execution_count": 46,
     "metadata": {},
     "output_type": "execute_result"
    }
   ],
   "source": [
    "9 > 8 #buyuk mu"
   ]
  },
  {
   "cell_type": "code",
   "execution_count": 47,
   "id": "a764f1d7",
   "metadata": {},
   "outputs": [
    {
     "data": {
      "text/plain": [
       "True"
      ]
     },
     "execution_count": 47,
     "metadata": {},
     "output_type": "execute_result"
    }
   ],
   "source": [
    "8 != 9 #esit degil mi"
   ]
  },
  {
   "cell_type": "code",
   "execution_count": 49,
   "id": "ac9d8ed2",
   "metadata": {},
   "outputs": [
    {
     "data": {
      "text/plain": [
       "True"
      ]
     },
     "execution_count": 49,
     "metadata": {},
     "output_type": "execute_result"
    }
   ],
   "source": [
    "9 >= 9 #buyuk esit mi"
   ]
  },
  {
   "cell_type": "code",
   "execution_count": 50,
   "id": "ed6bcdaf",
   "metadata": {},
   "outputs": [
    {
     "data": {
      "text/plain": [
       "False"
      ]
     },
     "execution_count": 50,
     "metadata": {},
     "output_type": "execute_result"
    }
   ],
   "source": [
    "7 <= 6 # kucuk esit mi"
   ]
  },
  {
   "cell_type": "code",
   "execution_count": 51,
   "id": "b36d9585",
   "metadata": {},
   "outputs": [
    {
     "name": "stdout",
     "output_type": "stream",
     "text": [
      "Birinci Sayiyi Giriniz : 65\n"
     ]
    }
   ],
   "source": [
    "sayi1 = input(\"Birinci Sayiyi Giriniz : \")"
   ]
  },
  {
   "cell_type": "code",
   "execution_count": 52,
   "id": "3dd3c394",
   "metadata": {},
   "outputs": [
    {
     "name": "stdout",
     "output_type": "stream",
     "text": [
      "İkinci Sayiyi Giriniz :78\n"
     ]
    }
   ],
   "source": [
    "sayi2 = input(\"İkinci Sayiyi Giriniz :\")"
   ]
  },
  {
   "cell_type": "code",
   "execution_count": 53,
   "id": "b43e37fd",
   "metadata": {},
   "outputs": [
    {
     "name": "stdout",
     "output_type": "stream",
     "text": [
      "Bu iki deger birbirine esit degildir\n"
     ]
    }
   ],
   "source": [
    "if(sayi1 != sayi2):\n",
    "    print(\"Bu iki deger birbirine esit degildir\")"
   ]
  },
  {
   "cell_type": "code",
   "execution_count": 54,
   "id": "176cee6b",
   "metadata": {},
   "outputs": [],
   "source": [
    "if(sayi1 == sayi2):\n",
    "    print(\"Bu iki deger birbirine esit degildir\")"
   ]
  },
  {
   "cell_type": "code",
   "execution_count": 55,
   "id": "c422c789",
   "metadata": {},
   "outputs": [
    {
     "data": {
      "text/plain": [
       "False"
      ]
     },
     "execution_count": 55,
     "metadata": {},
     "output_type": "execute_result"
    }
   ],
   "source": [
    "sayi1 == sayi2"
   ]
  },
  {
   "cell_type": "code",
   "execution_count": 56,
   "id": "f8dd8e1e",
   "metadata": {},
   "outputs": [
    {
     "name": "stdout",
     "output_type": "stream",
     "text": [
      "76\n"
     ]
    }
   ],
   "source": [
    "ucuncuArray = [3, 5, 6, 12, 32, 6, 12] # degerlerin toplamini bulun.\n",
    "\n",
    "topla = 0\n",
    "for deger in ucuncuArray:\n",
    "    topla += deger # topla = topla + deger\n",
    "print(topla)"
   ]
  },
  {
   "cell_type": "code",
   "execution_count": null,
   "id": "57817aae",
   "metadata": {},
   "outputs": [],
   "source": [
    "#Fibonacci serisi \n",
    "0 1 1 2 3 5 8 13 21 34 55 89 144 233 377 610 987\n",
    "\n",
    "klavyeden girilen deger kadar elemani yazdirin\n",
    "\n",
    "range(), append\n",
    "\n",
    "[2]\n",
    "\n",
    "\n",
    "Ornek;\n",
    "Klavyeden 5 girilmis olsun;\n",
    "0 1 1 2 3\n",
    "Klavyeden 10 girilmis olsun;\n",
    "0 1 1 2 3 5 8 13 21 34"
   ]
  }
 ],
 "metadata": {
  "kernelspec": {
   "display_name": "Python 3 (ipykernel)",
   "language": "python",
   "name": "python3"
  },
  "language_info": {
   "codemirror_mode": {
    "name": "ipython",
    "version": 3
   },
   "file_extension": ".py",
   "mimetype": "text/x-python",
   "name": "python",
   "nbconvert_exporter": "python",
   "pygments_lexer": "ipython3",
   "version": "3.9.7"
  }
 },
 "nbformat": 4,
 "nbformat_minor": 5
}
