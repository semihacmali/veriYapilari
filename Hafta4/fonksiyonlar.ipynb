{
 "cells": [
  {
   "cell_type": "code",
   "execution_count": 4,
   "id": "3e0cfe8c",
   "metadata": {},
   "outputs": [],
   "source": [
    "# ilk once fonksiyon tanimlanmali daha sonradan cagirilmalidir\n",
    "#defination(def) fonksiyon tanimlamak icin kullanilir\n",
    "#def'den sonra fonksiyonun adi yazilir\n",
    "#() icerisine ise disardan gelen degiskenler yazilir\n",
    "# ':' sonra alt satira gecilir ve bir tab boslugu birakilir\n",
    "# bu tab bosluguna fonksiyonun islemleri yazilir\n",
    "##yorumlayicilar ile calistigi icin herhangi bir degisiklikte\n",
    "##fonksiyon veya tanim tekrar yorumlayici tarafindan okutulmalidir\n",
    "def ilkFonk():\n",
    "    print(\"Python Void Fonksiyon\")\n",
    "    print(\"Kontrol Ciktisi\") # fonksiyon ilk calistirildiginda yoktu bu satir\n"
   ]
  },
  {
   "cell_type": "code",
   "execution_count": 2,
   "id": "7777637c",
   "metadata": {},
   "outputs": [
    {
     "name": "stdout",
     "output_type": "stream",
     "text": [
      "Python Void Fonksiyon\n"
     ]
    }
   ],
   "source": [
    "ilkFonk()"
   ]
  },
  {
   "cell_type": "code",
   "execution_count": 3,
   "id": "c682e297",
   "metadata": {},
   "outputs": [
    {
     "name": "stdout",
     "output_type": "stream",
     "text": [
      "Python Void Fonksiyon\n"
     ]
    }
   ],
   "source": [
    "ilkFonk()"
   ]
  },
  {
   "cell_type": "code",
   "execution_count": 5,
   "id": "6435ad5c",
   "metadata": {},
   "outputs": [
    {
     "name": "stdout",
     "output_type": "stream",
     "text": [
      "Python Void Fonksiyon\n",
      "Kontrol Ciktisi\n"
     ]
    }
   ],
   "source": [
    "ilkFonk()"
   ]
  },
  {
   "cell_type": "code",
   "execution_count": 15,
   "id": "f7d9605d",
   "metadata": {},
   "outputs": [],
   "source": [
    "# disaridan bir tane deger alan ve uzunlugunu ekrana yazdiran bir fonksiyon\n",
    "# degisken turu farkli bile olsa fonksiyonun icindeki islemler eger uygunsa\n",
    "# calistirilabilir\n",
    "def ikinciFonk(metin):\n",
    "    print(\"Girilen metnin uzunlugu : \" + str(len(metin)))"
   ]
  },
  {
   "cell_type": "code",
   "execution_count": 16,
   "id": "6b66a0a9",
   "metadata": {},
   "outputs": [
    {
     "name": "stdout",
     "output_type": "stream",
     "text": [
      "Girilen metnin uzunlugu : 15\n"
     ]
    }
   ],
   "source": [
    "metin = \"Musa Tanrıverdi\"\n",
    "ikinciFonk(metin)"
   ]
  },
  {
   "cell_type": "code",
   "execution_count": 10,
   "id": "6b36abed",
   "metadata": {},
   "outputs": [
    {
     "name": "stdout",
     "output_type": "stream",
     "text": [
      "Girilen metnin uzunlugu : 5\n"
     ]
    }
   ],
   "source": [
    "degisken = [5,6,7,9,4]\n",
    "ikinciFonk(degisken)"
   ]
  },
  {
   "cell_type": "code",
   "execution_count": 12,
   "id": "c0a76c67",
   "metadata": {},
   "outputs": [
    {
     "ename": "TypeError",
     "evalue": "object of type 'float' has no len()",
     "output_type": "error",
     "traceback": [
      "\u001b[1;31m---------------------------------------------------------------------------\u001b[0m",
      "\u001b[1;31mTypeError\u001b[0m                                 Traceback (most recent call last)",
      "\u001b[1;32mC:\\Users\\ADMINI~1\\AppData\\Local\\Temp/ipykernel_7060/1252839075.py\u001b[0m in \u001b[0;36m<module>\u001b[1;34m\u001b[0m\n\u001b[0;32m      1\u001b[0m \u001b[0ma\u001b[0m \u001b[1;33m=\u001b[0m \u001b[1;36m5.0\u001b[0m\u001b[1;33m\u001b[0m\u001b[1;33m\u001b[0m\u001b[0m\n\u001b[1;32m----> 2\u001b[1;33m \u001b[0mikinciFonk\u001b[0m\u001b[1;33m(\u001b[0m\u001b[0ma\u001b[0m\u001b[1;33m)\u001b[0m\u001b[1;33m\u001b[0m\u001b[1;33m\u001b[0m\u001b[0m\n\u001b[0m",
      "\u001b[1;32mC:\\Users\\ADMINI~1\\AppData\\Local\\Temp/ipykernel_7060/2003852863.py\u001b[0m in \u001b[0;36mikinciFonk\u001b[1;34m(metin)\u001b[0m\n\u001b[0;32m      1\u001b[0m \u001b[1;31m# disaridan bir tane deger alan ve uzunlugunu ekrana yazdiran bir fonksiyon\u001b[0m\u001b[1;33m\u001b[0m\u001b[1;33m\u001b[0m\u001b[0m\n\u001b[0;32m      2\u001b[0m \u001b[1;32mdef\u001b[0m \u001b[0mikinciFonk\u001b[0m\u001b[1;33m(\u001b[0m\u001b[0mmetin\u001b[0m\u001b[1;33m)\u001b[0m\u001b[1;33m:\u001b[0m\u001b[1;33m\u001b[0m\u001b[1;33m\u001b[0m\u001b[0m\n\u001b[1;32m----> 3\u001b[1;33m     \u001b[0mprint\u001b[0m\u001b[1;33m(\u001b[0m\u001b[1;34m\"Girilen metnin uzunlugu : \"\u001b[0m \u001b[1;33m+\u001b[0m \u001b[0mstr\u001b[0m\u001b[1;33m(\u001b[0m\u001b[0mlen\u001b[0m\u001b[1;33m(\u001b[0m\u001b[0mmetin\u001b[0m\u001b[1;33m)\u001b[0m\u001b[1;33m)\u001b[0m\u001b[1;33m)\u001b[0m\u001b[1;33m\u001b[0m\u001b[1;33m\u001b[0m\u001b[0m\n\u001b[0m\u001b[0;32m      4\u001b[0m \u001b[1;33m\u001b[0m\u001b[0m\n",
      "\u001b[1;31mTypeError\u001b[0m: object of type 'float' has no len()"
     ]
    }
   ],
   "source": [
    "a = 5.0\n",
    "ikinciFonk(a) # float, int gibi uzunlugun olmadigi degiskenlerde hata verir"
   ]
  },
  {
   "cell_type": "code",
   "execution_count": 14,
   "id": "2dc0e7b4",
   "metadata": {},
   "outputs": [
    {
     "name": "stdout",
     "output_type": "stream",
     "text": [
      "Girilen metnin uzunlugu : 1\n"
     ]
    }
   ],
   "source": [
    "b = 'c'\n",
    "ikinciFonk(b) # char'in da uzunlugunun olmasi"
   ]
  },
  {
   "cell_type": "code",
   "execution_count": 23,
   "id": "336082f0",
   "metadata": {},
   "outputs": [],
   "source": [
    "# girilen dizideki elemanların geometrik ortalamasini alan fonksiyonu yaziniz.\n",
    "# dizinin icindeki elemanlari kontrol edelim\n",
    "# eger sayisal ise geometrik ortalamanin icerisine alalim.\n",
    "def geoOrt(dizi):\n",
    "    for deger in dizi:\n",
    "        if isinstance(deger, int) or isinstance(deger, float):\n",
    "            print(str(deger) + \" numeric'tir.\")"
   ]
  },
  {
   "cell_type": "code",
   "execution_count": 31,
   "id": "dbb01269",
   "metadata": {},
   "outputs": [],
   "source": [
    "def geoOrt(dizi):\n",
    "    sonuc = 1\n",
    "    sayac = 0\n",
    "    for deger in dizi:\n",
    "        if isinstance(deger, int) or isinstance(deger, float):\n",
    "            sayac = sayac + 1\n",
    "            sonuc = sonuc * deger\n",
    "    if sayac == 0:\n",
    "        print(\"Dizide hiç sayisal ifade yoktur!!\")\n",
    "        sonuc = \"Tanimsiz\"\n",
    "    else:\n",
    "        sonuc = sonuc ** (1/sayac)\n",
    "    return sonuc"
   ]
  },
  {
   "cell_type": "code",
   "execution_count": 24,
   "id": "bc4ab79f",
   "metadata": {},
   "outputs": [
    {
     "name": "stdout",
     "output_type": "stream",
     "text": [
      "8numeric'tir.\n",
      "1.0numeric'tir.\n",
      "5.5numeric'tir.\n"
     ]
    }
   ],
   "source": [
    "arr = [\"5\", \"a\", 8, 1.0, 5.5]\n",
    "geoOrt(arr)"
   ]
  },
  {
   "cell_type": "code",
   "execution_count": 27,
   "id": "59e2bb58",
   "metadata": {},
   "outputs": [
    {
     "data": {
      "text/plain": [
       "3.530348335326063"
      ]
     },
     "execution_count": 27,
     "metadata": {},
     "output_type": "execute_result"
    }
   ],
   "source": [
    "geoOrt(arr)"
   ]
  },
  {
   "cell_type": "code",
   "execution_count": 28,
   "id": "757ca1d5",
   "metadata": {},
   "outputs": [
    {
     "data": {
      "text/plain": [
       "3.530348335326063"
      ]
     },
     "execution_count": 28,
     "metadata": {},
     "output_type": "execute_result"
    }
   ],
   "source": [
    "arr1 = [5, 8, 56, 12, \"sa\", 23]\n",
    "geoOrt(arr)"
   ]
  },
  {
   "cell_type": "code",
   "execution_count": 32,
   "id": "eec87e94",
   "metadata": {},
   "outputs": [
    {
     "name": "stdout",
     "output_type": "stream",
     "text": [
      "Dizide hiç sayisal ifade yoktur!!\n"
     ]
    },
    {
     "data": {
      "text/plain": [
       "'Tanimsiz'"
      ]
     },
     "execution_count": 32,
     "metadata": {},
     "output_type": "execute_result"
    }
   ],
   "source": [
    "arr2 = [\"1\", \"2\", \"4\"]\n",
    "geoOrt(arr2)"
   ]
  },
  {
   "cell_type": "markdown",
   "id": "6a334333",
   "metadata": {},
   "source": [
    "#### Kullanicidan alinan 2 farkli sayi arasindaki asal sayilari bulan ve bunlari bir dizi icerisinde geri donduren fonksiyonu yaziniz.\n",
    "\n",
    "Ornek; ilk sayi 20 ikinci sayi 5 olsun;\n",
    "            [5, 7, 11, 13, 17]\n",
    "       ilk sayi 10 ikinci sayi 30 olsun;\n",
    "           [11, 13, 17, 23, 29]\n"
   ]
  }
 ],
 "metadata": {
  "kernelspec": {
   "display_name": "Python 3 (ipykernel)",
   "language": "python",
   "name": "python3"
  },
  "language_info": {
   "codemirror_mode": {
    "name": "ipython",
    "version": 3
   },
   "file_extension": ".py",
   "mimetype": "text/x-python",
   "name": "python",
   "nbconvert_exporter": "python",
   "pygments_lexer": "ipython3",
   "version": "3.9.7"
  }
 },
 "nbformat": 4,
 "nbformat_minor": 5
}
