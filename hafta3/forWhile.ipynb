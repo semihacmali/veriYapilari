{
 "cells": [
  {
   "cell_type": "code",
   "execution_count": 2,
   "id": "73b97a58",
   "metadata": {},
   "outputs": [
    {
     "name": "stdout",
     "output_type": "stream",
     "text": [
      "Y\n",
      "I\n",
      "U\n"
     ]
    }
   ],
   "source": [
    "for harf in \"YIU\":\n",
    "    print(harf)"
   ]
  },
  {
   "cell_type": "code",
   "execution_count": 3,
   "id": "b7babef0",
   "metadata": {},
   "outputs": [
    {
     "name": "stdout",
     "output_type": "stream",
     "text": [
      "Elma\n",
      "Armut\n",
      "Ayva\n",
      "Domates\n"
     ]
    }
   ],
   "source": [
    "meyve = [\"Elma\", \"Armut\", \"Ayva\", \"Domates\"]\n",
    "for meyveTur in meyve:\n",
    "    print(meyveTur)"
   ]
  },
  {
   "cell_type": "markdown",
   "id": "b4443606",
   "metadata": {},
   "source": [
    "Python da For döngüsü bir dizi icerisindeki elemanlar ele alinarak gerceklestirilir"
   ]
  },
  {
   "cell_type": "markdown",
   "id": "ccf50290",
   "metadata": {},
   "source": [
    "for(int i = 0; i < 7; i+=3) bunun yerine range(0,7,1) range(baslagicdegeri, bitisdegeri, artismiktari)"
   ]
  },
  {
   "cell_type": "code",
   "execution_count": 5,
   "id": "e7982db2",
   "metadata": {},
   "outputs": [
    {
     "name": "stdout",
     "output_type": "stream",
     "text": [
      "0\n",
      "1\n",
      "2\n",
      "3\n",
      "4\n",
      "5\n",
      "6\n"
     ]
    }
   ],
   "source": [
    "for i in range(0,7):\n",
    "    print(i)"
   ]
  },
  {
   "cell_type": "code",
   "execution_count": 8,
   "id": "27bcb316",
   "metadata": {},
   "outputs": [
    {
     "name": "stdout",
     "output_type": "stream",
     "text": [
      "[0, 1, 2, 3, 4, 5, 6]\n"
     ]
    }
   ],
   "source": [
    "print(list(range(0,7)))"
   ]
  },
  {
   "cell_type": "code",
   "execution_count": 9,
   "id": "1d07b326",
   "metadata": {},
   "outputs": [
    {
     "name": "stdout",
     "output_type": "stream",
     "text": [
      "5\n",
      "10\n",
      "15\n",
      "20\n",
      "25\n",
      "30\n",
      "35\n",
      "40\n",
      "45\n",
      "50\n",
      "55\n",
      "60\n",
      "65\n",
      "70\n",
      "75\n",
      "80\n",
      "85\n"
     ]
    }
   ],
   "source": [
    "for j in range(5,89,5): # 5 ile 89 arasında 5 artarak ilerler\n",
    "    print(j)"
   ]
  },
  {
   "cell_type": "code",
   "execution_count": 18,
   "id": "3740d2b8",
   "metadata": {},
   "outputs": [],
   "source": [
    "topla = [k for k in range(0,8)] # dizi(liste) olarak tanimlanir"
   ]
  },
  {
   "cell_type": "code",
   "execution_count": 19,
   "id": "ccc18187",
   "metadata": {},
   "outputs": [
    {
     "data": {
      "text/plain": [
       "[0, 1, 2, 3, 4, 5, 6, 7]"
      ]
     },
     "execution_count": 19,
     "metadata": {},
     "output_type": "execute_result"
    }
   ],
   "source": [
    "topla"
   ]
  },
  {
   "cell_type": "code",
   "execution_count": 20,
   "id": "46854db6",
   "metadata": {},
   "outputs": [
    {
     "data": {
      "text/plain": [
       "[0, 1, 4, 9, 16, 25, 36, 49, 64, 81, 100]"
      ]
     },
     "execution_count": 20,
     "metadata": {},
     "output_type": "execute_result"
    }
   ],
   "source": [
    "# 1 ile 10 arasindaki sayilarin karelerini alinmasi\n",
    "kareleri = [l ** 2 for l in range(0,11)] \n",
    "kareleri"
   ]
  },
  {
   "cell_type": "code",
   "execution_count": 29,
   "id": "25e67923",
   "metadata": {},
   "outputs": [
    {
     "name": "stdout",
     "output_type": "stream",
     "text": [
      "1\n",
      "5\n",
      "9\n",
      "13\n",
      "17\n",
      "21\n",
      "25\n",
      "29\n",
      "33\n",
      "37\n",
      "41\n"
     ]
    }
   ],
   "source": [
    "m = 1 \n",
    "while(m < 45):\n",
    "    print(m)\n",
    "    m = m+4"
   ]
  },
  {
   "cell_type": "code",
   "execution_count": 30,
   "id": "b44c3554",
   "metadata": {
    "scrolled": true
   },
   "outputs": [
    {
     "name": "stdout",
     "output_type": "stream",
     "text": [
      "1\n",
      "5\n",
      "9\n",
      "13\n",
      "17\n",
      "21\n",
      "25\n",
      "29\n",
      "33\n",
      "37\n",
      "41\n"
     ]
    }
   ],
   "source": [
    "m = 1 \n",
    "while(m < 45):\n",
    "    print(m)\n",
    "    m = m + 4"
   ]
  },
  {
   "cell_type": "code",
   "execution_count": 32,
   "id": "c69f8483",
   "metadata": {},
   "outputs": [
    {
     "data": {
      "text/plain": [
       "86"
      ]
     },
     "execution_count": 32,
     "metadata": {},
     "output_type": "execute_result"
    }
   ],
   "source": [
    "sayilar = [8,1,6,25,4,62,56,86,2,3,78,65]\n",
    "          #[1,8,6,25,4,62,56,86,2,3,78,65]\n",
    "          #[1,2,6,25,4,62,56,86,8,3,78,65]\n",
    "          #[1,2,3,25,4,62,56,86,8,6,78,65]\n",
    "            \n",
    "#bu dizideki en kucuk ve en buyuk elemani bulmanizi istiyorum"
   ]
  },
  {
   "cell_type": "markdown",
   "id": "f4cd154f",
   "metadata": {},
   "source": [
    "[8,1,6,25,4,62,56,86,2,3,78,65]\n",
    "[1,8,6,25,....\n",
    "[1,6,8,......\n",
    "[1,6,8,4,25....\n",
    "[1,6,8,4,25,56,62\n",
    "[1,6,8,4,25,56.......65,78]\n"
   ]
  },
  {
   "cell_type": "code",
   "execution_count": 35,
   "id": "7c70cc71",
   "metadata": {},
   "outputs": [
    {
     "name": "stdout",
     "output_type": "stream",
     "text": [
      "En kucuk sayi : 1\n",
      "En kucuk sayinin index : 1\n"
     ]
    }
   ],
   "source": [
    "# en kucuk elemani bulan for dongusu\n",
    "enkucuk = sayilar[0]\n",
    "enkucukindex = 0\n",
    "for i in range(1,len(sayilar)):\n",
    "    if enkucuk > sayilar[i] :\n",
    "        enkucuk = sayilar[i]\n",
    "        enkucukindex = i\n",
    "print(\"En kucuk sayi : \" + str(enkucuk))\n",
    "print(\"En kucuk sayinin index : \" + str(enkucukindex))"
   ]
  },
  {
   "cell_type": "code",
   "execution_count": 37,
   "id": "d7901c25",
   "metadata": {},
   "outputs": [
    {
     "name": "stdout",
     "output_type": "stream",
     "text": [
      "En Buyuk Sayi : 86\n",
      "En Buyuk Sayi Index : 7\n"
     ]
    }
   ],
   "source": [
    "# en buyuk elemani bulan while dongusu\n",
    "enbuyuk = sayilar[0]\n",
    "enbuyukindex = 0\n",
    "j = 1 # index i tutacak deger\n",
    "while(j < len(sayilar)):\n",
    "    if enbuyuk < sayilar[j]:\n",
    "        enbuyuk = sayilar[j]\n",
    "        enbuyukindex = j\n",
    "    j = j + 1\n",
    "print(\"En Buyuk Sayi : \" + str(enbuyuk))\n",
    "print(\"En Buyuk Sayi Index : \" + str(enbuyukindex))"
   ]
  },
  {
   "cell_type": "code",
   "execution_count": 43,
   "id": "1b3b4de6",
   "metadata": {},
   "outputs": [
    {
     "name": "stdout",
     "output_type": "stream",
     "text": [
      "1\n",
      "86\n"
     ]
    }
   ],
   "source": [
    "print(min(sayilar))\n",
    "print(max(sayilar))"
   ]
  },
  {
   "cell_type": "code",
   "execution_count": 44,
   "id": "5ad728cd",
   "metadata": {},
   "outputs": [
    {
     "data": {
      "text/plain": [
       "1"
      ]
     },
     "execution_count": 44,
     "metadata": {},
     "output_type": "execute_result"
    }
   ],
   "source": [
    "sayilar.index(min(sayilar))"
   ]
  },
  {
   "cell_type": "code",
   "execution_count": 45,
   "id": "ef000273",
   "metadata": {},
   "outputs": [
    {
     "data": {
      "text/plain": [
       "7"
      ]
     },
     "execution_count": 45,
     "metadata": {},
     "output_type": "execute_result"
    }
   ],
   "source": [
    "sayilar.index(max(sayilar))"
   ]
  },
  {
   "cell_type": "code",
   "execution_count": 46,
   "id": "b1843db4",
   "metadata": {},
   "outputs": [
    {
     "data": {
      "text/plain": [
       "[8, 1, 6, 25, 4, 62, 56, 86, 2, 3, 78, 65]"
      ]
     },
     "execution_count": 46,
     "metadata": {},
     "output_type": "execute_result"
    }
   ],
   "source": [
    "sayilar"
   ]
  },
  {
   "cell_type": "code",
   "execution_count": 54,
   "id": "39de6446",
   "metadata": {},
   "outputs": [
    {
     "data": {
      "text/plain": [
       "[1, 2, 3, 4, 6, 8, 25, 56, 62, 65, 78, 86]"
      ]
     },
     "execution_count": 54,
     "metadata": {},
     "output_type": "execute_result"
    }
   ],
   "source": [
    "sorted(sayilar)"
   ]
  },
  {
   "cell_type": "code",
   "execution_count": 63,
   "id": "96bef99c",
   "metadata": {},
   "outputs": [
    {
     "data": {
      "text/plain": [
       "[1, 2, 3, 4, 6, 8, 25, 56, 62, 65, 78, 86]"
      ]
     },
     "execution_count": 63,
     "metadata": {},
     "output_type": "execute_result"
    }
   ],
   "source": [
    "sayilar.sort()\n",
    "sayilar"
   ]
  },
  {
   "cell_type": "markdown",
   "id": "a875d477",
   "metadata": {},
   "source": [
    "######\n",
    "### bir diziyi kucukten buyuk'e dogru sıralayan algoritmayı gelistiriniz...."
   ]
  }
 ],
 "metadata": {
  "kernelspec": {
   "display_name": "Python 3 (ipykernel)",
   "language": "python",
   "name": "python3"
  },
  "language_info": {
   "codemirror_mode": {
    "name": "ipython",
    "version": 3
   },
   "file_extension": ".py",
   "mimetype": "text/x-python",
   "name": "python",
   "nbconvert_exporter": "python",
   "pygments_lexer": "ipython3",
   "version": "3.9.7"
  }
 },
 "nbformat": 4,
 "nbformat_minor": 5
}
