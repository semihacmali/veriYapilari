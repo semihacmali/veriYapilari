{
 "cells": [
  {
   "cell_type": "code",
   "execution_count": 1,
   "id": "886711f6",
   "metadata": {},
   "outputs": [
    {
     "name": "stdout",
     "output_type": "stream",
     "text": [
      "Vize Notunu Giriniz : 50\n"
     ]
    }
   ],
   "source": [
    "# girilen vize ve final notlarına göre harflendirme sonucunu veren kodu yazalim\n",
    "vize = int(input(\"Vize Notunu Giriniz : \"))\n"
   ]
  },
  {
   "cell_type": "code",
   "execution_count": 2,
   "id": "2076f4df",
   "metadata": {},
   "outputs": [
    {
     "name": "stdout",
     "output_type": "stream",
     "text": [
      "Final Notunu Giriniz : 80\n"
     ]
    }
   ],
   "source": [
    "final = int(input(\"Final Notunu Giriniz : \"))"
   ]
  },
  {
   "cell_type": "code",
   "execution_count": 7,
   "id": "bf1f18c8",
   "metadata": {},
   "outputs": [
    {
     "data": {
      "text/plain": [
       "68.0"
      ]
     },
     "execution_count": 7,
     "metadata": {},
     "output_type": "execute_result"
    }
   ],
   "source": [
    "yilNotu = vize *0.4 + final *0.6\n",
    "yilNotu"
   ]
  },
  {
   "cell_type": "code",
   "execution_count": 4,
   "id": "c6ca08a1",
   "metadata": {},
   "outputs": [],
   "source": [
    "yilNotu = 55"
   ]
  },
  {
   "cell_type": "code",
   "execution_count": 21,
   "id": "811dd8f7",
   "metadata": {},
   "outputs": [
    {
     "name": "stdout",
     "output_type": "stream",
     "text": [
      "Geçti(CC)\n"
     ]
    }
   ],
   "source": [
    "if yilNotu < 50.0: # süslü parantez({}) iki nokta üstüste(:) ayni \n",
    "    print(\"Kaldi(DD)\")\n",
    "elif yilNotu >= 50.0 and yilNotu < 60.0: #Shift + 6 tusu veya and'de yazilabilir\n",
    "    print(\"Sartli Gecti(DC)\")\n",
    "elif yilNotu >= 60.0 and yilNotu < 70.0:\n",
    "    print(\"Geçti(CC)\")\n",
    "elif yilNotu >=70.0 and yilNotu < 80.0:\n",
    "    print(\"Basarili Gecti(CB)\")\n",
    "elif yilNotu >= 80.0 and yilNotu < 90.0:\n",
    "    print(\"Basarili Gecti(BB)\")\n",
    "else:\n",
    "    print(\"Üstün Basarili(AA)\")\n",
    "    \n",
    "# & bu isaret float degiskenlerde kullanilamiyor\n"
   ]
  },
  {
   "cell_type": "code",
   "execution_count": 22,
   "id": "2b0e008a",
   "metadata": {},
   "outputs": [
    {
     "ename": "TypeError",
     "evalue": "unsupported operand type(s) for &: 'float' and 'float'",
     "output_type": "error",
     "traceback": [
      "\u001b[1;31m---------------------------------------------------------------------------\u001b[0m",
      "\u001b[1;31mTypeError\u001b[0m                                 Traceback (most recent call last)",
      "\u001b[1;32m~\\AppData\\Local\\Temp/ipykernel_4384/72827648.py\u001b[0m in \u001b[0;36m<module>\u001b[1;34m\u001b[0m\n\u001b[1;32m----> 1\u001b[1;33m \u001b[0ma\u001b[0m \u001b[1;33m=\u001b[0m \u001b[1;36m60.0\u001b[0m \u001b[1;33m!=\u001b[0m \u001b[1;36m50.0\u001b[0m \u001b[1;33m&\u001b[0m \u001b[1;36m50.0\u001b[0m \u001b[1;33m==\u001b[0m \u001b[1;36m60.0\u001b[0m \u001b[1;31m# & bu isaret float degiskenlerde kullanilamiyor\u001b[0m\u001b[1;33m\u001b[0m\u001b[1;33m\u001b[0m\u001b[0m\n\u001b[0m\u001b[0;32m      2\u001b[0m \u001b[0ma\u001b[0m\u001b[1;33m\u001b[0m\u001b[1;33m\u001b[0m\u001b[0m\n",
      "\u001b[1;31mTypeError\u001b[0m: unsupported operand type(s) for &: 'float' and 'float'"
     ]
    }
   ],
   "source": [
    "a = 60.0 != 50.0 & 50.0 == 60.0 # & bu isaret float degiskenlerde kullanilamiyor\n",
    "a"
   ]
  },
  {
   "cell_type": "code",
   "execution_count": 23,
   "id": "cdd4c240",
   "metadata": {},
   "outputs": [
    {
     "data": {
      "text/plain": [
       "False"
      ]
     },
     "execution_count": 23,
     "metadata": {},
     "output_type": "execute_result"
    }
   ],
   "source": [
    "a = 60.0 != 50.0 and 50.0 == 60.0 \n",
    "a"
   ]
  },
  {
   "cell_type": "code",
   "execution_count": 24,
   "id": "282c2013",
   "metadata": {},
   "outputs": [],
   "source": [
    "a = 60\n",
    "b = 50\n",
    "c = 45"
   ]
  },
  {
   "cell_type": "code",
   "execution_count": 28,
   "id": "0320d496",
   "metadata": {},
   "outputs": [
    {
     "name": "stdout",
     "output_type": "stream",
     "text": [
      "a en büyük sayi olabilir\n"
     ]
    }
   ],
   "source": [
    "if a > c or c > b:\n",
    "    print(\"a en büyük sayi olabilir\")\n",
    "elif b > c or c > a:\n",
    "    print(\"b en büyük sayi olabilir\")\n",
    "else:\n",
    "    print(\"Sayilar hakkında genel bir bilgimiz yok\")"
   ]
  },
  {
   "cell_type": "markdown",
   "id": "a1052d33",
   "metadata": {},
   "source": [
    "&, | bitsel olarak kontrol ediyor ikilik tabanda kontrol sagliyor\n",
    "Operator \t                  Description \t                                Example \t\n",
    "and  \tReturns True if both statements are true \t                  x < 5 and  x < 10 \t\n",
    "or \t    Returns True if one of the statements is true \t              x < 5 or x < 4 \t\n",
    "not \tReverse the result, returns False if the result is true \t  not(x < 5 and x < 10)\n"
   ]
  },
  {
   "cell_type": "code",
   "execution_count": 37,
   "id": "db1cad99",
   "metadata": {},
   "outputs": [],
   "source": [
    "def SwitchExample(ay):\n",
    "    switcher = {\n",
    "        1: \" Ocak \",\n",
    "        2: \" Subat \",\n",
    "        3: \" Mart \",\n",
    "        4: \"Nisan\",\n",
    "        5: \"Mayis\",\n",
    "        6: \"Haziran\",\n",
    "        7: \"Temmuz\",\n",
    "        8: \"Agustos\",\n",
    "        9: \"Eylül\",\n",
    "        10: \"Ekim\",\n",
    "        11: \"Kasım\",\n",
    "        12: \"Aralık\"\n",
    "        \n",
    "    }\n",
    "    return switcher.get(ay, \"nothing\")"
   ]
  },
  {
   "cell_type": "code",
   "execution_count": 38,
   "id": "26fd5541",
   "metadata": {},
   "outputs": [
    {
     "data": {
      "text/plain": [
       "'Ekim'"
      ]
     },
     "execution_count": 38,
     "metadata": {},
     "output_type": "execute_result"
    }
   ],
   "source": [
    "SwitchExample(10)"
   ]
  },
  {
   "cell_type": "code",
   "execution_count": 43,
   "id": "c8d40086",
   "metadata": {},
   "outputs": [
    {
     "data": {
      "text/plain": [
       "68.0"
      ]
     },
     "execution_count": 43,
     "metadata": {},
     "output_type": "execute_result"
    }
   ],
   "source": [
    "yilNotu"
   ]
  },
  {
   "cell_type": "code",
   "execution_count": 44,
   "id": "df373a0e",
   "metadata": {},
   "outputs": [
    {
     "data": {
      "text/plain": [
       "'Gecti'"
      ]
     },
     "execution_count": 44,
     "metadata": {},
     "output_type": "execute_result"
    }
   ],
   "source": [
    "sonuc = \"Gecti\" if yilNotu > 50 else \"Kaldi\"\n",
    "sonuc"
   ]
  },
  {
   "cell_type": "code",
   "execution_count": null,
   "id": "be9cb8bd",
   "metadata": {},
   "outputs": [],
   "source": [
    "if yilNotu > 50:\n",
    "    print(\"Gecti\")\n",
    "else:\n",
    "    print(\"Kaldi\")"
   ]
  }
 ],
 "metadata": {
  "kernelspec": {
   "display_name": "Python 3 (ipykernel)",
   "language": "python",
   "name": "python3"
  },
  "language_info": {
   "codemirror_mode": {
    "name": "ipython",
    "version": 3
   },
   "file_extension": ".py",
   "mimetype": "text/x-python",
   "name": "python",
   "nbconvert_exporter": "python",
   "pygments_lexer": "ipython3",
   "version": "3.9.7"
  }
 },
 "nbformat": 4,
 "nbformat_minor": 5
}
