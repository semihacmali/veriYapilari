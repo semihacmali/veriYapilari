{
 "cells": [
  {
   "cell_type": "code",
   "execution_count": 2,
   "id": "fea7ceaf",
   "metadata": {},
   "outputs": [
    {
     "name": "stdout",
     "output_type": "stream",
     "text": [
      "Veri Yapıları Dersi\tYüksek İhtisas Üniversitesi\n"
     ]
    }
   ],
   "source": [
    "print(\"Veri Yapıları Dersi\\t\" + \"Yüksek İhtisas Üniversitesi\")"
   ]
  },
  {
   "cell_type": "markdown",
   "id": "51653286",
   "metadata": {},
   "source": [
    "\\n bir alt satira gecer <br>\n",
    "\\t bir tab tusu bosluk birakir"
   ]
  },
  {
   "cell_type": "code",
   "execution_count": 3,
   "id": "6016f2c7",
   "metadata": {},
   "outputs": [
    {
     "data": {
      "text/plain": [
       "'semihsemih'"
      ]
     },
     "execution_count": 3,
     "metadata": {},
     "output_type": "execute_result"
    }
   ],
   "source": [
    "\"semih\" * 2"
   ]
  },
  {
   "cell_type": "code",
   "execution_count": 4,
   "id": "cac71615",
   "metadata": {},
   "outputs": [
    {
     "data": {
      "text/plain": [
       "6"
      ]
     },
     "execution_count": 4,
     "metadata": {},
     "output_type": "execute_result"
    }
   ],
   "source": [
    "3 * 2\n"
   ]
  },
  {
   "cell_type": "code",
   "execution_count": 5,
   "id": "512c2aa1",
   "metadata": {},
   "outputs": [
    {
     "data": {
      "text/plain": [
       "9"
      ]
     },
     "execution_count": 5,
     "metadata": {},
     "output_type": "execute_result"
    }
   ],
   "source": [
    "3 ** 2"
   ]
  },
  {
   "cell_type": "code",
   "execution_count": 6,
   "id": "6078f1fe",
   "metadata": {},
   "outputs": [
    {
     "name": "stdout",
     "output_type": "stream",
     "text": [
      "* * * * * \n"
     ]
    }
   ],
   "source": [
    "print(\"* \" * 5)"
   ]
  },
  {
   "cell_type": "code",
   "execution_count": 7,
   "id": "3fdd91e7",
   "metadata": {},
   "outputs": [
    {
     "name": "stdout",
     "output_type": "stream",
     "text": [
      "* * * * * \n",
      " * * * * *\n"
     ]
    }
   ],
   "source": [
    "print(\"* \" * 5 + \"\\n *\" + \" *\" * 4)"
   ]
  },
  {
   "cell_type": "code",
   "execution_count": 8,
   "id": "39a47b6f",
   "metadata": {},
   "outputs": [
    {
     "name": "stdout",
     "output_type": "stream",
     "text": [
      "\n",
      "* * * * * \n",
      " * * * * *\n",
      "* * * * * \n",
      " * * * * *\n"
     ]
    }
   ],
   "source": [
    "print(2 * ((\"\\n* \") + (\"* \"* 4) + (\"\\n *\") + (\" *\" * 4)))"
   ]
  },
  {
   "cell_type": "code",
   "execution_count": 9,
   "id": "0ebcf0e3",
   "metadata": {},
   "outputs": [],
   "source": [
    "sayi = 3"
   ]
  },
  {
   "cell_type": "code",
   "execution_count": 10,
   "id": "68b4cd0d",
   "metadata": {},
   "outputs": [
    {
     "data": {
      "text/plain": [
       "int"
      ]
     },
     "execution_count": 10,
     "metadata": {},
     "output_type": "execute_result"
    }
   ],
   "source": [
    "type(sayi)"
   ]
  },
  {
   "cell_type": "code",
   "execution_count": 11,
   "id": "52979c13",
   "metadata": {},
   "outputs": [
    {
     "name": "stdout",
     "output_type": "stream",
     "text": [
      "3\n"
     ]
    }
   ],
   "source": [
    "print(sayi)"
   ]
  },
  {
   "cell_type": "code",
   "execution_count": 12,
   "id": "7f1c6f02",
   "metadata": {},
   "outputs": [
    {
     "data": {
      "text/plain": [
       "3.0"
      ]
     },
     "execution_count": 12,
     "metadata": {},
     "output_type": "execute_result"
    }
   ],
   "source": [
    "float(sayi)"
   ]
  },
  {
   "cell_type": "code",
   "execution_count": 13,
   "id": "5e8c0555",
   "metadata": {},
   "outputs": [
    {
     "data": {
      "text/plain": [
       "'3'"
      ]
     },
     "execution_count": 13,
     "metadata": {},
     "output_type": "execute_result"
    }
   ],
   "source": [
    "str(sayi)"
   ]
  },
  {
   "cell_type": "code",
   "execution_count": 14,
   "id": "e5943982",
   "metadata": {},
   "outputs": [],
   "source": [
    "sayi = \"5\""
   ]
  },
  {
   "cell_type": "code",
   "execution_count": 15,
   "id": "c35ae41b",
   "metadata": {},
   "outputs": [
    {
     "data": {
      "text/plain": [
       "str"
      ]
     },
     "execution_count": 15,
     "metadata": {},
     "output_type": "execute_result"
    }
   ],
   "source": [
    "type(sayi)"
   ]
  },
  {
   "cell_type": "code",
   "execution_count": 16,
   "id": "0f82fb28",
   "metadata": {},
   "outputs": [
    {
     "data": {
      "text/plain": [
       "'555'"
      ]
     },
     "execution_count": 16,
     "metadata": {},
     "output_type": "execute_result"
    }
   ],
   "source": [
    "sayi * 3"
   ]
  },
  {
   "cell_type": "code",
   "execution_count": 17,
   "id": "ac4e077e",
   "metadata": {},
   "outputs": [
    {
     "data": {
      "text/plain": [
       "15"
      ]
     },
     "execution_count": 17,
     "metadata": {},
     "output_type": "execute_result"
    }
   ],
   "source": [
    "int(sayi) * 3"
   ]
  },
  {
   "cell_type": "code",
   "execution_count": 18,
   "id": "9b9fd655",
   "metadata": {},
   "outputs": [],
   "source": [
    "sayi1 = \"semih\""
   ]
  },
  {
   "cell_type": "code",
   "execution_count": 19,
   "id": "a1c5fb26",
   "metadata": {},
   "outputs": [
    {
     "ename": "ValueError",
     "evalue": "invalid literal for int() with base 10: 'semih'",
     "output_type": "error",
     "traceback": [
      "\u001b[1;31m---------------------------------------------------------------------------\u001b[0m",
      "\u001b[1;31mValueError\u001b[0m                                Traceback (most recent call last)",
      "\u001b[1;32m~\\AppData\\Local\\Temp/ipykernel_18588/3564054203.py\u001b[0m in \u001b[0;36m<module>\u001b[1;34m\u001b[0m\n\u001b[1;32m----> 1\u001b[1;33m \u001b[0mint\u001b[0m\u001b[1;33m(\u001b[0m\u001b[0msayi1\u001b[0m\u001b[1;33m)\u001b[0m \u001b[1;31m# degisken degeri sayisal olmak zorunda\u001b[0m\u001b[1;33m\u001b[0m\u001b[1;33m\u001b[0m\u001b[0m\n\u001b[0m",
      "\u001b[1;31mValueError\u001b[0m: invalid literal for int() with base 10: 'semih'"
     ]
    }
   ],
   "source": [
    "int(sayi1) # degisken degeri sayisal olmak zorunda"
   ]
  },
  {
   "cell_type": "code",
   "execution_count": 20,
   "id": "76fb65d7",
   "metadata": {},
   "outputs": [],
   "source": [
    "sayi2 , sayi3 , sayi4 = 9, \"Yiu\", 8.7"
   ]
  },
  {
   "cell_type": "code",
   "execution_count": 21,
   "id": "7d14ec03",
   "metadata": {},
   "outputs": [
    {
     "name": "stdout",
     "output_type": "stream",
     "text": [
      "9\n"
     ]
    }
   ],
   "source": [
    "print(sayi2)"
   ]
  },
  {
   "cell_type": "code",
   "execution_count": 22,
   "id": "d33dc686",
   "metadata": {},
   "outputs": [
    {
     "name": "stdout",
     "output_type": "stream",
     "text": [
      "Yiu\n"
     ]
    }
   ],
   "source": [
    "print(sayi3)"
   ]
  },
  {
   "cell_type": "code",
   "execution_count": 23,
   "id": "6fc774da",
   "metadata": {},
   "outputs": [
    {
     "name": "stdout",
     "output_type": "stream",
     "text": [
      "8.7\n"
     ]
    }
   ],
   "source": [
    "print(sayi4)"
   ]
  },
  {
   "cell_type": "code",
   "execution_count": 24,
   "id": "2b2fcd6d",
   "metadata": {},
   "outputs": [
    {
     "data": {
      "text/plain": [
       "'Yiu2'"
      ]
     },
     "execution_count": 24,
     "metadata": {},
     "output_type": "execute_result"
    }
   ],
   "source": [
    "sayi3 + \"2\""
   ]
  },
  {
   "cell_type": "code",
   "execution_count": 25,
   "id": "3a369143",
   "metadata": {},
   "outputs": [
    {
     "name": "stdout",
     "output_type": "stream",
     "text": [
      "Deger Giriniz : 5\n"
     ]
    }
   ],
   "source": [
    "sayi1 = input(\"Deger Giriniz : \") # girdi olarak alinan tum degerler string dir"
   ]
  },
  {
   "cell_type": "code",
   "execution_count": 26,
   "id": "b66ad00b",
   "metadata": {},
   "outputs": [],
   "source": [
    "sayi1 = int(sayi1)"
   ]
  },
  {
   "cell_type": "code",
   "execution_count": 27,
   "id": "085323ba",
   "metadata": {},
   "outputs": [
    {
     "name": "stdout",
     "output_type": "stream",
     "text": [
      "Birinci Sayiyi Giriniz : 9\n"
     ]
    }
   ],
   "source": [
    "sayi2 = int(input(\"Birinci Sayiyi Giriniz : \"))"
   ]
  },
  {
   "cell_type": "code",
   "execution_count": 28,
   "id": "539f9689",
   "metadata": {},
   "outputs": [
    {
     "data": {
      "text/plain": [
       "int"
      ]
     },
     "execution_count": 28,
     "metadata": {},
     "output_type": "execute_result"
    }
   ],
   "source": [
    "type(sayi2)"
   ]
  },
  {
   "cell_type": "code",
   "execution_count": 29,
   "id": "f8876ca8",
   "metadata": {},
   "outputs": [
    {
     "name": "stdout",
     "output_type": "stream",
     "text": [
      "Ikinci Sayiyi Giriniz : 7\n"
     ]
    }
   ],
   "source": [
    "sayi3 = int(input(\"Ikinci Sayiyi Giriniz : \"))"
   ]
  },
  {
   "cell_type": "code",
   "execution_count": 30,
   "id": "1d7beadc",
   "metadata": {},
   "outputs": [],
   "source": [
    "sayi2kare = sayi2 ** 2"
   ]
  },
  {
   "cell_type": "code",
   "execution_count": 31,
   "id": "d7fc19c9",
   "metadata": {},
   "outputs": [],
   "source": [
    "sayi3kare = sayi3 ** 2"
   ]
  },
  {
   "cell_type": "code",
   "execution_count": 32,
   "id": "ae6f5562",
   "metadata": {},
   "outputs": [],
   "source": [
    "hipotenus = (sayi2kare + sayi3kare) ** (1/2)"
   ]
  },
  {
   "cell_type": "code",
   "execution_count": 33,
   "id": "65bbf49c",
   "metadata": {},
   "outputs": [
    {
     "data": {
      "text/plain": [
       "11.40175425099138"
      ]
     },
     "execution_count": 33,
     "metadata": {},
     "output_type": "execute_result"
    }
   ],
   "source": [
    "hipotenus"
   ]
  },
  {
   "cell_type": "code",
   "execution_count": 34,
   "id": "3007274e",
   "metadata": {},
   "outputs": [],
   "source": [
    "hipotenus = pow(sayi2kare + sayi3kare, 1/2) ## pow(taban, üst) "
   ]
  },
  {
   "cell_type": "code",
   "execution_count": 35,
   "id": "93c8a6be",
   "metadata": {},
   "outputs": [
    {
     "data": {
      "text/plain": [
       "11.40175425099138"
      ]
     },
     "execution_count": 35,
     "metadata": {},
     "output_type": "execute_result"
    }
   ],
   "source": [
    "hipotenus"
   ]
  },
  {
   "cell_type": "markdown",
   "id": "00e90094",
   "metadata": {},
   "source": [
    "girdi olarak alınan 3 sayının aritmatik ortalamasını alan kodu yazınız."
   ]
  },
  {
   "cell_type": "code",
   "execution_count": 36,
   "id": "efe9aa29",
   "metadata": {},
   "outputs": [
    {
     "name": "stdout",
     "output_type": "stream",
     "text": [
      "Birinci Sayıyı Giriniz : 15\n",
      "İkinci Sayıyı Giriniz : 65\n",
      "Üçüncü Sayıyı Giriniz : 50\n"
     ]
    }
   ],
   "source": [
    "sayi1 = input('Birinci Sayıyı Giriniz : ')\n",
    "sayi2 = input('İkinci Sayıyı Giriniz : ')\n",
    "sayi3 = input('Üçüncü Sayıyı Giriniz : ')\n",
    "ortalama = (int(sayi1) + int(sayi2) + int(sayi3)) / 3"
   ]
  },
  {
   "cell_type": "code",
   "execution_count": 37,
   "id": "5b5d1b1d",
   "metadata": {},
   "outputs": [
    {
     "data": {
      "text/plain": [
       "43.333333333333336"
      ]
     },
     "execution_count": 37,
     "metadata": {},
     "output_type": "execute_result"
    }
   ],
   "source": [
    "ortalama"
   ]
  },
  {
   "cell_type": "code",
   "execution_count": 38,
   "id": "d0dc7f87",
   "metadata": {},
   "outputs": [
    {
     "data": {
      "text/plain": [
       "1"
      ]
     },
     "execution_count": 38,
     "metadata": {},
     "output_type": "execute_result"
    }
   ],
   "source": [
    "mod1 = 16 % 3 #% ifadesi solundaki sayiyi sağındaki sayiya gore modunu alir\n",
    "mod1"
   ]
  },
  {
   "cell_type": "code",
   "execution_count": 39,
   "id": "e7961685",
   "metadata": {},
   "outputs": [
    {
     "name": "stdout",
     "output_type": "stream",
     "text": [
      "Modu alinacak sayi : 65\n"
     ]
    }
   ],
   "source": [
    "sayi1 = int(input(\"Modu alinacak sayi : \"))"
   ]
  },
  {
   "cell_type": "code",
   "execution_count": 40,
   "id": "fddad4f1",
   "metadata": {},
   "outputs": [
    {
     "name": "stdout",
     "output_type": "stream",
     "text": [
      "Alinacak Mod Degeri : 8\n"
     ]
    }
   ],
   "source": [
    "sayi2 = int(input(\"Alinacak Mod Degeri : \"))"
   ]
  },
  {
   "cell_type": "code",
   "execution_count": 41,
   "id": "cfa06b6f",
   "metadata": {},
   "outputs": [
    {
     "name": "stdout",
     "output_type": "stream",
     "text": [
      "1\n"
     ]
    }
   ],
   "source": [
    "print(sayi1 % sayi2)"
   ]
  },
  {
   "cell_type": "code",
   "execution_count": 42,
   "id": "dfe237fd",
   "metadata": {},
   "outputs": [
    {
     "data": {
      "text/plain": [
       "22"
      ]
     },
     "execution_count": 42,
     "metadata": {},
     "output_type": "execute_result"
    }
   ],
   "source": [
    "5638\n",
    "5+6+3+8"
   ]
  },
  {
   "cell_type": "markdown",
   "id": "d0f29c27",
   "metadata": {},
   "source": [
    "<h1>Klavyeden Girilen 4 Basamakli Sayinin Basamak Değerleri toplamını bulan kodu yazınız.</h1>"
   ]
  }
 ],
 "metadata": {
  "kernelspec": {
   "display_name": "Python 3 (ipykernel)",
   "language": "python",
   "name": "python3"
  },
  "language_info": {
   "codemirror_mode": {
    "name": "ipython",
    "version": 3
   },
   "file_extension": ".py",
   "mimetype": "text/x-python",
   "name": "python",
   "nbconvert_exporter": "python",
   "pygments_lexer": "ipython3",
   "version": "3.9.7"
  }
 },
 "nbformat": 4,
 "nbformat_minor": 5
}
