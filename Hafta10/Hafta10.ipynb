{
 "cells": [
  {
   "cell_type": "code",
   "execution_count": 39,
   "id": "0e19b4df",
   "metadata": {},
   "outputs": [],
   "source": [
    "class Ogrenci:\n",
    "    iden = 0 #int \n",
    "    name = \"\" #string"
   ]
  },
  {
   "cell_type": "code",
   "execution_count": 40,
   "id": "409019c8",
   "metadata": {},
   "outputs": [],
   "source": [
    "o1 = Ogrenci()"
   ]
  },
  {
   "cell_type": "code",
   "execution_count": 41,
   "id": "5681a7c9",
   "metadata": {},
   "outputs": [],
   "source": [
    "#referans ile degisken tanimlama\n",
    "o1.iden = 13\n",
    "o1.name = \"Sezer\""
   ]
  },
  {
   "cell_type": "code",
   "execution_count": 42,
   "id": "331f9f6e",
   "metadata": {},
   "outputs": [
    {
     "name": "stdout",
     "output_type": "stream",
     "text": [
      "13\n"
     ]
    }
   ],
   "source": [
    "print(o1.iden)"
   ]
  },
  {
   "cell_type": "code",
   "execution_count": 43,
   "id": "7f797d69",
   "metadata": {},
   "outputs": [
    {
     "data": {
      "text/plain": [
       "__main__.Ogrenci"
      ]
     },
     "execution_count": 43,
     "metadata": {},
     "output_type": "execute_result"
    }
   ],
   "source": [
    "type(o1)"
   ]
  },
  {
   "cell_type": "code",
   "execution_count": 44,
   "id": "3f20c628",
   "metadata": {},
   "outputs": [],
   "source": [
    "class Araba:\n",
    "    sahibi = \"\"\n",
    "    model = \"\"\n",
    "    fiyat = 0.0\n",
    "    def girdiAraba(self,aracsahibi, aracmodel, aracfiyat):\n",
    "        self.sahibi, self.model, self.fiyat = aracsahibi, aracmodel, aracfiyat    \n",
    "    def aracBilgi(self):\n",
    "        print(\"Aracin Sahibi : {}, \\n Aracin Modeli : {}, \\n Aracin Fiyati: {}\".format(self.sahibi, self.model, self.fiyat))"
   ]
  },
  {
   "cell_type": "code",
   "execution_count": 45,
   "id": "b3845984",
   "metadata": {},
   "outputs": [],
   "source": [
    "a1 = Araba()"
   ]
  },
  {
   "cell_type": "code",
   "execution_count": 46,
   "id": "87523e3a",
   "metadata": {},
   "outputs": [],
   "source": [
    "a1.girdiAraba(\"Enes\",\"Mini\", 600000)"
   ]
  },
  {
   "cell_type": "code",
   "execution_count": 47,
   "id": "ddead4c2",
   "metadata": {},
   "outputs": [
    {
     "name": "stdout",
     "output_type": "stream",
     "text": [
      "Aracin Sahibi : Enes, \n",
      " Aracin Modeli : Mini, \n",
      " Aracin Fiyati: 600000\n"
     ]
    }
   ],
   "source": [
    "a1.aracBilgi()"
   ]
  },
  {
   "cell_type": "code",
   "execution_count": 48,
   "id": "273877ea",
   "metadata": {},
   "outputs": [],
   "source": [
    "class Ayakkabi:\n",
    "    marka = \"\"\n",
    "    numara = 0.0\n",
    "    fiyat = 0.0\n",
    "    def __init__(self, marka, numara, fiyat):  # Constructer\n",
    "       self.marka = marka # self.marka sınıfın icerisindeki degisken olan marka \n",
    "       self.numara = numara\n",
    "       self.fiyat = fiyat"
   ]
  },
  {
   "cell_type": "code",
   "execution_count": 49,
   "id": "fb1eea9d",
   "metadata": {},
   "outputs": [
    {
     "ename": "TypeError",
     "evalue": "__init__() missing 3 required positional arguments: 'marka', 'numara', and 'fiyat'",
     "output_type": "error",
     "traceback": [
      "\u001b[1;31m---------------------------------------------------------------------------\u001b[0m",
      "\u001b[1;31mTypeError\u001b[0m                                 Traceback (most recent call last)",
      "\u001b[1;32m~\\AppData\\Local\\Temp/ipykernel_15296/2838448203.py\u001b[0m in \u001b[0;36m<module>\u001b[1;34m\u001b[0m\n\u001b[1;32m----> 1\u001b[1;33m \u001b[0mayakkabi1\u001b[0m \u001b[1;33m=\u001b[0m \u001b[0mAyakkabi\u001b[0m\u001b[1;33m(\u001b[0m\u001b[1;33m)\u001b[0m\u001b[1;33m\u001b[0m\u001b[1;33m\u001b[0m\u001b[0m\n\u001b[0m",
      "\u001b[1;31mTypeError\u001b[0m: __init__() missing 3 required positional arguments: 'marka', 'numara', and 'fiyat'"
     ]
    }
   ],
   "source": [
    "ayakkabi1 = Ayakkabi()"
   ]
  },
  {
   "cell_type": "code",
   "execution_count": 50,
   "id": "ef3a8cd3",
   "metadata": {},
   "outputs": [],
   "source": [
    "ayakkabi2 = Ayakkabi(\"Nike\", 42, 800)"
   ]
  },
  {
   "cell_type": "code",
   "execution_count": 51,
   "id": "382b2438",
   "metadata": {},
   "outputs": [
    {
     "data": {
      "text/plain": [
       "800"
      ]
     },
     "execution_count": 51,
     "metadata": {},
     "output_type": "execute_result"
    }
   ],
   "source": [
    "ayakkabi2.fiyat"
   ]
  },
  {
   "cell_type": "code",
   "execution_count": 52,
   "id": "633e4f27",
   "metadata": {},
   "outputs": [],
   "source": [
    "class Ayakkabi:\n",
    "    marka = \"\"\n",
    "    numara = 0.0\n",
    "    fiyat = 0.0\n",
    "    def __init__(self, marka, numara, fiyat):  # Constructer\n",
    "       self.marka = marka # self.marka sınıfın icerisindeki degisken olan marka \n",
    "       self.numara = numara\n",
    "       self.fiyat = fiyat\n",
    "    def __init__(self, marka, numara):\n",
    "        self.marka = marka\n",
    "        self.numara = numara"
   ]
  },
  {
   "cell_type": "code",
   "execution_count": 53,
   "id": "8f8f1cd3",
   "metadata": {},
   "outputs": [],
   "source": [
    "ayakkabi3 = Ayakkabi(\"Adidas\", 38)"
   ]
  },
  {
   "cell_type": "code",
   "execution_count": 58,
   "id": "23f04161",
   "metadata": {},
   "outputs": [
    {
     "data": {
      "text/plain": [
       "0.0"
      ]
     },
     "execution_count": 58,
     "metadata": {},
     "output_type": "execute_result"
    }
   ],
   "source": [
    "ayakkabi3.fiyat # class'in tanimlanirken kullanilan class ici degisken degeri"
   ]
  },
  {
   "cell_type": "code",
   "execution_count": 54,
   "id": "1ff8c036",
   "metadata": {},
   "outputs": [],
   "source": [
    "class Ayakkabi:\n",
    "    marka = \"\"\n",
    "    numara = 0.0\n",
    "    fiyat = 0.0\n",
    "    def __init__(self, marka, numara, fiyat):  # Constructer\n",
    "       self.marka = marka # self.marka sınıfın icerisindeki degisken olan marka \n",
    "       self.numara = numara\n",
    "       self.fiyat = fiyat\n",
    "    def __init__(self, marka, numara):\n",
    "        self.marka = marka\n",
    "        self.numara = numara\n",
    "    def __init__(self):\n",
    "        self.marka = \"Girilmedi\"\n",
    "        self.numara = 0.0\n",
    "        self.fiyat = 0.0"
   ]
  },
  {
   "cell_type": "code",
   "execution_count": 55,
   "id": "28111152",
   "metadata": {},
   "outputs": [],
   "source": [
    "ayakkabi4 = Ayakkabi()"
   ]
  },
  {
   "cell_type": "code",
   "execution_count": 57,
   "id": "c210e9b9",
   "metadata": {},
   "outputs": [
    {
     "name": "stdout",
     "output_type": "stream",
     "text": [
      "Test dogru\n"
     ]
    }
   ],
   "source": [
    "if ayakkabi4.marka == \"Girilmedi\":\n",
    "    print(\"Test dogru\")"
   ]
  }
 ],
 "metadata": {
  "kernelspec": {
   "display_name": "Python 3 (ipykernel)",
   "language": "python",
   "name": "python3"
  },
  "language_info": {
   "codemirror_mode": {
    "name": "ipython",
    "version": 3
   },
   "file_extension": ".py",
   "mimetype": "text/x-python",
   "name": "python",
   "nbconvert_exporter": "python",
   "pygments_lexer": "ipython3",
   "version": "3.9.7"
  }
 },
 "nbformat": 4,
 "nbformat_minor": 5
}
